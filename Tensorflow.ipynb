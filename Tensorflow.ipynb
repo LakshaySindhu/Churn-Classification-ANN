{
 "cells": [
  {
   "cell_type": "code",
   "execution_count": null,
   "id": "d3b9afcf",
   "metadata": {},
   "outputs": [],
   "source": [
    "# Tensorflow\n",
    "# Most widely used frameworks for Deep Learning and Neural Networks.\n",
    "# Open source deep learning framework developed by Google Brain\n",
    "# It is used to build and train machine learning models ranging from simple linear regression to very deep neural networks\n",
    "\n",
    "# Tensor → a multi-dimensional array (generalization of vectors/matrices).\n",
    "# Flow → how data moves through a computational graph.\n"
   ]
  }
 ],
 "metadata": {
  "kernelspec": {
   "display_name": "nenv",
   "language": "python",
   "name": "python3"
  },
  "language_info": {
   "name": "python",
   "version": "3.12.11"
  }
 },
 "nbformat": 4,
 "nbformat_minor": 5
}
